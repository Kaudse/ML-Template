{
 "cells": [
  {
   "cell_type": "markdown",
   "metadata": {},
   "source": [
    "# Template for evaluating several ML classification models"
   ]
  },
  {
   "cell_type": "markdown",
   "metadata": {},
   "source": [
    "## Import basic Libraries"
   ]
  },
  {
   "cell_type": "code",
   "execution_count": 1,
   "metadata": {},
   "outputs": [],
   "source": [
    "import numpy as np\n",
    "import matplotlib.pyplot as plt\n",
    "import pandas as pd"
   ]
  },
  {
   "cell_type": "code",
   "execution_count": 2,
   "metadata": {},
   "outputs": [],
   "source": [
    "dataset = pd.read_csv('Data_for_UCI_named.csv')\n",
    "X = dataset.iloc[:, :-2].values\n",
    "y = dataset.iloc[:, -1].values"
   ]
  },
  {
   "cell_type": "code",
   "execution_count": 3,
   "metadata": {},
   "outputs": [
    {
     "name": "stdout",
     "output_type": "stream",
     "text": [
      "['unstable' 'stable' 'unstable' ... 'stable' 'unstable' 'unstable']\n"
     ]
    }
   ],
   "source": [
    "print(y)"
   ]
  },
  {
   "cell_type": "markdown",
   "metadata": {},
   "source": [
    "## Data Preprocessing"
   ]
  },
  {
   "cell_type": "markdown",
   "metadata": {},
   "source": [
    "### Impute missing data"
   ]
  },
  {
   "cell_type": "code",
   "execution_count": 4,
   "metadata": {},
   "outputs": [
    {
     "name": "stdout",
     "output_type": "stream",
     "text": [
      "Missing data points: 0\n"
     ]
    }
   ],
   "source": [
    "print(f\"Missing data points: {dataset.isnull().sum().sum()}\")\n",
    "\n",
    "from sklearn.impute import SimpleImputer\n",
    "imputer = SimpleImputer(missing_values=np.nan, strategy='mean')\n",
    "imputer.fit(X)\n",
    "X = imputer.transform(X)"
   ]
  },
  {
   "cell_type": "markdown",
   "metadata": {},
   "source": [
    "### Encoding categorical data"
   ]
  },
  {
   "cell_type": "markdown",
   "metadata": {},
   "source": [
    "**Label encoding** is used for binary target labels."
   ]
  },
  {
   "cell_type": "code",
   "execution_count": 5,
   "metadata": {},
   "outputs": [
    {
     "name": "stdout",
     "output_type": "stream",
     "text": [
      "[1 0 1 ... 0 1 1]\n"
     ]
    }
   ],
   "source": [
    "from sklearn.preprocessing import LabelEncoder\n",
    "le = LabelEncoder()\n",
    "y = le.fit_transform(y)\n",
    "print(y)"
   ]
  },
  {
   "cell_type": "markdown",
   "metadata": {},
   "source": [
    "**One-Hot encoding** is used for more than one category.\n",
    "\n",
    "Different transformers can be applied to different columns. They are given as a list of tuples (name, transformer, columns), where *name* is a unique identifyer, *transformer* the kind of encoding, and *columns* a list of columns the encoder is applied to.\n",
    "\n",
    "The result is that the categoric column, containing C categories, is replaced by C new columns, of which for each sample only one contains the value 1 and all others the value 0 (One-Hot vector)."
   ]
  },
  {
   "cell_type": "code",
   "execution_count": 6,
   "metadata": {},
   "outputs": [],
   "source": [
    "from sklearn.compose import ColumnTransformer\n",
    "from sklearn.preprocessing import OneHotEncoder\n",
    "\n",
    "ct = ColumnTransformer(transformers=[('encoder', OneHotEncoder(), [])], remainder='passthrough')\n",
    "X = np.array(ct.fit_transform(X))"
   ]
  },
  {
   "cell_type": "markdown",
   "metadata": {},
   "source": [
    "### Splitting the dataset into training and test data"
   ]
  },
  {
   "cell_type": "code",
   "execution_count": 7,
   "metadata": {},
   "outputs": [],
   "source": [
    "from sklearn.model_selection import train_test_split\n",
    "X_train, X_test, y_train, y_test = train_test_split(X, y, test_size = 0.2, random_state = 1)"
   ]
  },
  {
   "cell_type": "markdown",
   "metadata": {},
   "source": [
    "### Feature scaling"
   ]
  },
  {
   "cell_type": "code",
   "execution_count": 8,
   "metadata": {},
   "outputs": [],
   "source": [
    "from sklearn.preprocessing import StandardScaler\n",
    "sc = StandardScaler()\n",
    "X_train = sc.fit_transform(X_train)\n",
    "X_test = sc.transform(X_test)"
   ]
  },
  {
   "cell_type": "markdown",
   "metadata": {},
   "source": [
    "### Principle Component Analysis (PCA)"
   ]
  },
  {
   "cell_type": "markdown",
   "metadata": {},
   "source": [
    "PCA is used to reduce the dimentionality of the dataset. It minimizes the correlation between the features by performing a coordinate transformation onto the principle components (Eigenvectors). The user can then reduce the dataset to the principle components that contribute most to the variability of the data.\n",
    "\n",
    "Following the PCA is performed with the maximum of target dimensions. The contribution of the dimensions to the variability of the dataset is then plotted in a Scree plot (histogram of the percetages of the contribution). From this it is easy to see how many dimension are needed to explain the dataset sufficiently (often 60 % is used)."
   ]
  },
  {
   "cell_type": "code",
   "execution_count": 9,
   "metadata": {},
   "outputs": [
    {
     "data": {
      "text/plain": [
       "PCA()"
      ]
     },
     "execution_count": 9,
     "metadata": {},
     "output_type": "execute_result"
    }
   ],
   "source": [
    "from sklearn.decomposition import PCA\n",
    "pca = PCA()#n_components = min(X_train.shape))\n",
    "pca.fit(X_train)"
   ]
  },
  {
   "cell_type": "code",
   "execution_count": 10,
   "metadata": {},
   "outputs": [
    {
     "name": "stdout",
     "output_type": "stream",
     "text": [
      "[1.68446645e-01 8.70710715e-02 8.67586137e-02 8.61793435e-02\n",
      " 8.41591294e-02 8.41115634e-02 8.27319486e-02 8.12700175e-02\n",
      " 8.04378276e-02 7.97623905e-02 7.90714497e-02 4.54835222e-31]\n"
     ]
    },
    {
     "data": {
      "image/png": "[encoded data removed]",
      "text/plain": [
       "<Figure size 432x288 with 1 Axes>"
      ]
     },
     "metadata": {
      "needs_background": "light"
     },
     "output_type": "display_data"
    },
    {
     "name": "stdout",
     "output_type": "stream",
     "text": [
      "0.6794583146563521\n"
     ]
    }
   ],
   "source": [
    "# Plotting the Scree plot\n",
    "print(pca.explained_variance_ratio_)\n",
    "PC_values = np.arange(pca.n_components_) + 1\n",
    "plt.bar(PC_values, pca.explained_variance_ratio_)\n",
    "plt.title('Scree Plot')\n",
    "plt.xlabel('Principal Component')\n",
    "plt.ylabel('Variance Explained')\n",
    "plt.show()\n",
    "print(pca.explained_variance_ratio_[:7].sum())"
   ]
  },
  {
   "cell_type": "code",
   "execution_count": null,
   "metadata": {},
   "outputs": [],
   "source": [
    "# Get the number of principal components needed to have a sum of variances above a certain limit.\n",
    "LIMIT = 0.6\n",
    "sum_of_variance = 0\n",
    "i = 0\n",
    "while sum_of_variance < LIMIT:\n",
    "    sum_of_variance += pca.explained_variance_ratio_[i]\n",
    "    i += 1\n",
    "number_of_principal_components = i\n",
    "print(f\"Sum of variances = {sum_of_variance} at {number_of_principal_components} principle components.\")"
   ]
  },
  {
   "cell_type": "code",
   "execution_count": null,
   "metadata": {},
   "outputs": [],
   "source": [
    "# Run the PCA with the chosen number of principle components.\n",
    "pca = PCA(n_components = number_of_principal_components)\n",
    "X_train = pca.fit_transform(X_train)\n",
    "X_test = pca.transform(X_test)\n",
    "print(X_train.shape)"
   ]
  },
  {
   "cell_type": "markdown",
   "metadata": {},
   "source": [
    "In cases the data is not linearly separatable, KernelPCA may help."
   ]
  },
  {
   "cell_type": "code",
   "execution_count": 11,
   "metadata": {},
   "outputs": [
    {
     "data": {
      "text/plain": [
       "KernelPCA(kernel='rbf', n_components=12)"
      ]
     },
     "execution_count": 11,
     "metadata": {},
     "output_type": "execute_result"
    }
   ],
   "source": [
    "from sklearn.decomposition import KernelPCA\n",
    "kpca = KernelPCA(n_components = min(X_train.shape), kernel = 'rbf')\n",
    "kpca.fit(X_train)"
   ]
  },
  {
   "cell_type": "code",
   "execution_count": 14,
   "metadata": {},
   "outputs": [
    {
     "data": {
      "image/png": "[encoded data removed]",
      "text/plain": [
       "<Figure size 432x288 with 1 Axes>"
      ]
     },
     "metadata": {
      "needs_background": "light"
     },
     "output_type": "display_data"
    }
   ],
   "source": [
    "# Plotting the Scree plot\n",
    "PC_values = np.arange(kpca.n_features_in_) + 1\n",
    "plt.bar(PC_values, kpca.eigenvalues_ / kpca.eigenvalues_.sum())\n",
    "plt.title('Scree Plot Kernel')\n",
    "plt.xlabel('Principal Component')\n",
    "plt.ylabel('Variance Explained')\n",
    "plt.show()"
   ]
  },
  {
   "cell_type": "code",
   "execution_count": 15,
   "metadata": {},
   "outputs": [
    {
     "name": "stdout",
     "output_type": "stream",
     "text": [
      "Sum of variances = 0.6411601938133991 at 7 principle components.\n"
     ]
    }
   ],
   "source": [
    "# Get the number of principal components needed to have a sum of variances above a certain limit.\n",
    "LIMIT = 0.6\n",
    "sum_of_variance = 0\n",
    "i = 0\n",
    "while sum_of_variance < LIMIT:\n",
    "    sum_of_variance += kpca.eigenvalues_[i] / kpca.eigenvalues_.sum()\n",
    "    i += 1\n",
    "number_of_principal_components = i\n",
    "print(f\"Sum of variances = {sum_of_variance} at {number_of_principal_components} principle components.\")"
   ]
  },
  {
   "cell_type": "markdown",
   "metadata": {},
   "source": [
    "### Linear Discriminant Analysis (LDA)"
   ]
  },
  {
   "cell_type": "code",
   "execution_count": null,
   "metadata": {},
   "outputs": [],
   "source": []
  },
  {
   "cell_type": "markdown",
   "metadata": {},
   "source": [
    "# Comparing the ML classifiers"
   ]
  },
  {
   "cell_type": "markdown",
   "metadata": {},
   "source": [
    "## Import the classifier classes"
   ]
  },
  {
   "cell_type": "code",
   "execution_count": null,
   "metadata": {},
   "outputs": [],
   "source": [
    "from sklearn.linear_model import LogisticRegression\n",
    "from sklearn.neighbors import KNeighborsClassifier\n",
    "from sklearn.svm import SVC\n",
    "from sklearn.naive_bayes import GaussianNB\n",
    "from sklearn.tree import DecisionTreeClassifier\n",
    "from sklearn.ensemble import RandomForestClassifier\n",
    "from sklearn.metrics import confusion_matrix, accuracy_score\n",
    "from sklearn.model_selection import GridSearchCV"
   ]
  },
  {
   "cell_type": "markdown",
   "metadata": {},
   "source": [
    "## Model and parameter definitions"
   ]
  },
  {
   "cell_type": "code",
   "execution_count": null,
   "metadata": {},
   "outputs": [],
   "source": [
    "names = [\n",
    "    \"Logistic Regression\",\n",
    "    \"K-nearest Neighbors\",\n",
    "    \"SVM\",\n",
    "    #\"Linear SVM\",\n",
    "    #\"RBF SVM\",\n",
    "    \"Naive Bayes\",\n",
    "    \"Decision Tree\",\n",
    "    \"Random Forest\",\n",
    "]\n",
    "\n",
    "classifiers = [\n",
    "    LogisticRegression(random_state=0),\n",
    "    KNeighborsClassifier(metric = 'minkowski', p = 2),\n",
    "    SVC(random_state=0),\n",
    "    #SVC(kernel = 'linear', random_state = 0),\n",
    "    #SVC(kernel = 'rbf', random_state = 0),\n",
    "    GaussianNB(),\n",
    "    DecisionTreeClassifier(random_state = 0),\n",
    "    RandomForestClassifier(random_state = 0)am\n",
    "]\n",
    "\n",
    "parameters = [\n",
    "    [\n",
    "        {'C': [0.25, 0.5, 0.75, 1, 10]}\n",
    "    ],\n",
    "    [\n",
    "        {'n_neighbors': [2, 3, 4, 5, 10, 20, 100], 'weights': ['uniform', 'distance']}\n",
    "    ],\n",
    "    [\n",
    "        {'C': [0.25, 0.5, 0.75, 1, 10], 'kernel': ['linear']},\n",
    "        #{'C': [0.25, 0.5, 0.75, 1, 10], 'kernel': ['poly'], 'degree': [2, 3, 4, 5]},\n",
    "        #{'C': [0.25, 0.5, 0.75, 1, 10], 'kernel': ['rbf'], 'gamma': [0.1, 0.2, 0.3, 0.4, 0.5, 0.6, 0.7, 0.8, 0.9]}         \n",
    "    ],\n",
    "    [\n",
    "        {}\n",
    "    ],\n",
    "    [\n",
    "        {'criterion': ['gini', 'entropy', 'log_loss'], 'max_depth': [2, 3, 4, 5, 8, 12, 20]}\n",
    "    ],\n",
    "    [\n",
    "        {'n_estimators': [5, 10, 20, 100, 1000], 'max_depth': [2, 3, 4, 5, 8, 12, 20, 100], 'criterion': ['gini', 'entropy', 'log_loss']}\n",
    "    ]    \n",
    "]"
   ]
  },
  {
   "cell_type": "markdown",
   "metadata": {},
   "source": [
    "## Model Comparison at standard settings"
   ]
  },
  {
   "cell_type": "code",
   "execution_count": null,
   "metadata": {},
   "outputs": [],
   "source": [
    "print(f\"Classifier {:20} Accuracy {:5}\")\n",
    "for name, classifier in zip(names, classifiers):\n",
    "    classifier.fit(X_train, y_train)\n",
    "    y_pred = classifier.predict(X_test)\n",
    "    print(f\"Classifier: {name:20},  accuracy: {accuracy_score(y_test, y_pred) * 100:5.2f}%\")"
   ]
  },
  {
   "cell_type": "markdown",
   "metadata": {},
   "source": [
    "## Hyperparameter tuning using Grid Search including k-fold Cross Validation"
   ]
  },
  {
   "cell_type": "code",
   "execution_count": null,
   "metadata": {},
   "outputs": [],
   "source": [
    "print(f\"Classifier {:20} Best Accuracy {:20.2f} Parameter combination\")\n",
    "for name, classifier, params in zip(names, classifiers, parameters):\n",
    "    grid_search = GridSearchCV(estimator = classifier,\n",
    "                           param_grid = params,\n",
    "                           scoring = 'accuracy',\n",
    "                           cv = 10,  # Number of cross validations\n",
    "                           n_jobs = -1)  # number of CPU cores used. -1 indicates to use all cores.\n",
    "    grid_search.fit(X_train, y_train)\n",
    "    print(f\"{name:20} {grid_search.best_score_ * 100: 5.2f} {grid_search.best_params_}\")"
   ]
  },
  {
   "cell_type": "code",
   "execution_count": null,
   "metadata": {},
   "outputs": [],
   "source": []
  }
 ],
 "metadata": {
  "kernelspec": {
   "display_name": "Python 3",
   "language": "python",
   "name": "python3"
  },
  "language_info": {
   "codemirror_mode": {
    "name": "ipython",
    "version": 3
   },
   "file_extension": ".py",
   "mimetype": "text/x-python",
   "name": "python",
   "nbconvert_exporter": "python",
   "pygments_lexer": "ipython3",
   "version": "3.7.6"
  }
 },
 "nbformat": 4,
 "nbformat_minor": 4
}
