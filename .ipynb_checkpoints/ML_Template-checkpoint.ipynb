{
 "cells": [
  {
   "cell_type": "markdown",
   "metadata": {},
   "source": [
    "# Template for evaluating several ML classification models"
   ]
  },
  {
   "cell_type": "markdown",
   "metadata": {},
   "source": [
    "## Import basic Libraries"
   ]
  },
  {
   "cell_type": "code",
   "execution_count": 1,
   "metadata": {},
   "outputs": [],
   "source": [
    "import numpy as np\n",
    "import matplotlib.pyplot as plt\n",
    "import pandas as pd"
   ]
  },
  {
   "cell_type": "code",
   "execution_count": 2,
   "metadata": {},
   "outputs": [],
   "source": [
    "dataset = pd.read_csv('Data_for_UCI_named.csv')\n",
    "X = dataset.iloc[:, :-2].values\n",
    "y = dataset.iloc[:, -1].values"
   ]
  },
  {
   "cell_type": "code",
   "execution_count": null,
   "metadata": {},
   "outputs": [],
   "source": [
    "print(X)"
   ]
  },
  {
   "cell_type": "markdown",
   "metadata": {},
   "source": [
    "## Data Preprocessing"
   ]
  },
  {
   "cell_type": "code",
   "execution_count": 13,
   "metadata": {},
   "outputs": [],
   "source": [
    "### Impute missing data"
   ]
  },
  {
   "cell_type": "code",
   "execution_count": 3,
   "metadata": {},
   "outputs": [
    {
     "name": "stdout",
     "output_type": "stream",
     "text": [
      "tau1     0\n",
      "tau2     0\n",
      "tau3     0\n",
      "tau4     0\n",
      "p1       0\n",
      "p2       0\n",
      "p3       0\n",
      "p4       0\n",
      "g1       0\n",
      "g2       0\n",
      "g3       0\n",
      "g4       0\n",
      "stab     0\n",
      "stabf    0\n",
      "dtype: int64\n"
     ]
    }
   ],
   "source": [
    "print(dataset.isnull().sum())\n",
    "\n",
    "from sklearn.impute import SimpleImputer\n",
    "imputer = SimpleImputer(missing_values=np.nan, strategy='mean')\n",
    "imputer.fit(X)\n",
    "X = imputer.transform(X)"
   ]
  },
  {
   "cell_type": "markdown",
   "metadata": {},
   "source": [
    "### Encode the labels"
   ]
  },
  {
   "cell_type": "code",
   "execution_count": 4,
   "metadata": {},
   "outputs": [
    {
     "name": "stdout",
     "output_type": "stream",
     "text": [
      "[1 0 1 ... 0 1 1]\n"
     ]
    }
   ],
   "source": [
    "from sklearn.preprocessing import LabelEncoder\n",
    "le = LabelEncoder()\n",
    "y = le.fit_transform(y)\n",
    "print(y)"
   ]
  },
  {
   "cell_type": "markdown",
   "metadata": {},
   "source": [
    "### Splitting the dataset into training and test data"
   ]
  },
  {
   "cell_type": "code",
   "execution_count": 5,
   "metadata": {},
   "outputs": [],
   "source": [
    "from sklearn.model_selection import train_test_split\n",
    "X_train, X_test, y_train, y_test = train_test_split(X, y, test_size = 0.2, random_state = 1)"
   ]
  },
  {
   "cell_type": "markdown",
   "metadata": {},
   "source": [
    "### Feature scaling"
   ]
  },
  {
   "cell_type": "code",
   "execution_count": 6,
   "metadata": {},
   "outputs": [],
   "source": [
    "from sklearn.preprocessing import StandardScaler\n",
    "sc = StandardScaler()\n",
    "X_train = sc.fit_transform(X_train)\n",
    "X_test = sc.transform(X_test)"
   ]
  },
  {
   "cell_type": "markdown",
   "metadata": {},
   "source": [
    "# Comparing the ML classifiers"
   ]
  },
  {
   "cell_type": "markdown",
   "metadata": {},
   "source": [
    "## Import the classifier classes"
   ]
  },
  {
   "cell_type": "code",
   "execution_count": 7,
   "metadata": {},
   "outputs": [],
   "source": [
    "from sklearn.linear_model import LogisticRegression\n",
    "from sklearn.neighbors import KNeighborsClassifier\n",
    "from sklearn.svm import SVC\n",
    "from sklearn.naive_bayes import GaussianNB\n",
    "from sklearn.tree import DecisionTreeClassifier\n",
    "from sklearn.ensemble import RandomForestClassifier\n",
    "from sklearn.metrics import confusion_matrix, accuracy_score\n",
    "from sklearn.model_selection import GridSearchCV"
   ]
  },
  {
   "cell_type": "markdown",
   "metadata": {},
   "source": [
    "## Model and parameter definitions"
   ]
  },
  {
   "cell_type": "code",
   "execution_count": 11,
   "metadata": {},
   "outputs": [],
   "source": [
    "names = [\n",
    "    \"Logistic Regression\",\n",
    "    \"K-nearest Neighbors\",\n",
    "    \"SVM\",\n",
    "    #\"Linear SVM\",\n",
    "    #\"RBF SVM\",\n",
    "    \"Naive Bayes\",\n",
    "    \"Decision Tree\",\n",
    "    \"Random Forest\",\n",
    "]\n",
    "\n",
    "classifiers = [\n",
    "    LogisticRegression(random_state=0),\n",
    "    KNeighborsClassifier(metric = 'minkowski', p = 2),\n",
    "    SVC(random_state=0),\n",
    "    #SVC(kernel = 'linear', random_state = 0),\n",
    "    #SVC(kernel = 'rbf', random_state = 0),\n",
    "    GaussianNB(),\n",
    "    DecisionTreeClassifier(random_state = 0),\n",
    "    RandomForestClassifier(random_state = 0)am\n",
    "]\n",
    "\n",
    "parameters = [\n",
    "    [\n",
    "        {'C': [0.25, 0.5, 0.75, 1, 10]}\n",
    "    ],\n",
    "    [\n",
    "        {'n_neighbors': [2, 3, 4, 5, 10, 20, 100], 'weights': ['uniform', 'distance']}\n",
    "    ],\n",
    "    [\n",
    "        {'C': [0.25, 0.5, 0.75, 1, 10], 'kernel': ['linear']},\n",
    "        #{'C': [0.25, 0.5, 0.75, 1, 10], 'kernel': ['poly'], 'degree': [2, 3, 4, 5]},\n",
    "        #{'C': [0.25, 0.5, 0.75, 1, 10], 'kernel': ['rbf'], 'gamma': [0.1, 0.2, 0.3, 0.4, 0.5, 0.6, 0.7, 0.8, 0.9]}         \n",
    "    ],\n",
    "    [\n",
    "        {}\n",
    "    ],\n",
    "    [\n",
    "        {'criterion': ['gini', 'entropy', 'log_loss'], 'max_depth': [2, 3, 4, 5, 8, 12, 20]}\n",
    "    ],\n",
    "    [\n",
    "        {'n_estimators': [5, 10, 20, 100, 1000], 'max_depth': [2, 3, 4, 5, 8, 12, 20, 100], 'criterion': ['gini', 'entropy', 'log_loss']}\n",
    "    ]    \n",
    "]"
   ]
  },
  {
   "cell_type": "markdown",
   "metadata": {},
   "source": [
    "## Model Comparison at standard settings"
   ]
  },
  {
   "cell_type": "code",
   "execution_count": 10,
   "metadata": {},
   "outputs": [
    {
     "name": "stdout",
     "output_type": "stream",
     "text": [
      "Classifier: Logistic Regression ,  accuracy: 80.40%\n",
      "Classifier: K-nearest Neighbors ,  accuracy: 86.50%\n",
      "Classifier: SVM                 ,  accuracy: 95.85%\n",
      "Classifier: Naive Bayes         ,  accuracy: 82.90%\n",
      "Classifier: Decision Tree       ,  accuracy: 85.50%\n",
      "Classifier: Random Forest       ,  accuracy: 92.45%\n"
     ]
    }
   ],
   "source": [
    "print(f\"Classifier {:20} Accuracy {:5}\")\n",
    "for name, classifier in zip(names, classifiers):\n",
    "    classifier.fit(X_train, y_train)\n",
    "    y_pred = classifier.predict(X_test)\n",
    "    print(f\"Classifier: {name:20},  accuracy: {accuracy_score(y_test, y_pred) * 100:5.2f}%\")"
   ]
  },
  {
   "cell_type": "markdown",
   "metadata": {},
   "source": [
    "## Hyperparameter tuning using Grid Search including k-fold Cross Validation"
   ]
  },
  {
   "cell_type": "code",
   "execution_count": 12,
   "metadata": {},
   "outputs": [
    {
     "name": "stdout",
     "output_type": "stream",
     "text": [
      "Classifier: Logistic Regression , Best accuracy:  81.74 at parameters: {'C': 0.25}\n",
      "Classifier: K-nearest Neighbors , Best accuracy:  87.19 at parameters: {'n_neighbors': 20, 'weights': 'uniform'}\n",
      "Classifier: SVM                 , Best accuracy:  81.74 at parameters: {'C': 0.25, 'kernel': 'linear'}\n",
      "Classifier: Naive Bayes         , Best accuracy:  83.25 at parameters: {}\n",
      "Classifier: Decision Tree       , Best accuracy:  85.15 at parameters: {'criterion': 'entropy', 'max_depth': 12}\n",
      "Classifier: Random Forest       , Best accuracy:  92.28 at parameters: {'criterion': 'gini', 'max_depth': 20, 'n_estimators': 1000}\n"
     ]
    }
   ],
   "source": [
    "print(f\"Classifier {:20} Best Accuracy {:20.2f} Parameter combination\")\n",
    "for name, classifier, params in zip(names, classifiers, parameters):\n",
    "    grid_search = GridSearchCV(estimator = classifier,\n",
    "                           param_grid = params,\n",
    "                           scoring = 'accuracy',\n",
    "                           cv = 10,  # Number of cross validations\n",
    "                           n_jobs = -1)  # number of CPU cores used. -1 indicates to use all cores.\n",
    "    grid_search.fit(X_train, y_train)\n",
    "    print(f\"{name:20} {grid_search.best_score_ * 100: 5.2f} {grid_search.best_params_}\")"
   ]
  },
  {
   "cell_type": "code",
   "execution_count": null,
   "metadata": {},
   "outputs": [],
   "source": []
  }
 ],
 "metadata": {
  "kernelspec": {
   "display_name": "Python 3",
   "language": "python",
   "name": "python3"
  },
  "language_info": {
   "codemirror_mode": {
    "name": "ipython",
    "version": 3
   },
   "file_extension": ".py",
   "mimetype": "text/x-python",
   "name": "python",
   "nbconvert_exporter": "python",
   "pygments_lexer": "ipython3",
   "version": "3.7.6"
  }
 },
 "nbformat": 4,
 "nbformat_minor": 4
}
